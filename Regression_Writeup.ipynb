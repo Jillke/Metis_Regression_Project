{
 "cells": [
  {
   "cell_type": "markdown",
   "id": "aa44d44f-3ca1-4c1c-9bd5-51e6f1ee1d58",
   "metadata": {},
   "source": [
    "# Predicting Domestic Box Office for Movies \n",
    "\n",
    "## Abstract\n",
    "The goal of this project is to predict the domestic gross of the movie based on their features using regression models. The result of this model is to help film investors make better strategic decision during the process of movie production that leads to high return investment. \n",
    "\n",
    "## Design\n",
    "\n",
    "To build regression models and select the best model to predict the domestic gross of the movies based on their features. The evaluation metrics, such as R^2, RMSE, and MAE are evaluated for each model.\n",
    "\n",
    "## Data\n",
    "\n",
    "The data was scraped from BoxOfficeMojo.com which includes features, such as run time, budget, and MPAA rating. The datasets are from 2010~2019 in North America and contain 1803 movies. After performing exploratory data analysis, the datasets contain 1078 movies.  \n",
    "\n",
    "## Algorithms\n",
    "- Used BeautifulSoup to scrape movie website.\n",
    "- Performed data cleaning and visualizations.  \n",
    "- Feature Engineering: converted categorical feature to binary dummy variables. \n",
    "- Models: Linear regression, lasso, ridge, random forest regression and the log transformation of the target variable were evaluated. Evaluation metrics include R^2, RMSE, and MAE. \n",
    "- Performed K-fold cross validation for each model. \n",
    "\n",
    "## Tools\n",
    "- BeautifulSoup for web scraping\n",
    "- Pandas and Numpy for data manipulation \n",
    "- Statsmodels and Scikit-learn for modeling\n",
    "- Seaborn and Matplotlib for data visualizations \n",
    "\n",
    "## Communication\n",
    "The presentation slides, code, and details on the analysis are in this project’s repository. "
   ]
  }
 ],
 "metadata": {
  "kernelspec": {
   "display_name": "Python [conda env:metis] *",
   "language": "python",
   "name": "conda-env-metis-py"
  },
  "language_info": {
   "codemirror_mode": {
    "name": "ipython",
    "version": 3
   },
   "file_extension": ".py",
   "mimetype": "text/x-python",
   "name": "python",
   "nbconvert_exporter": "python",
   "pygments_lexer": "ipython3",
   "version": "3.10.4"
  }
 },
 "nbformat": 4,
 "nbformat_minor": 5
}
