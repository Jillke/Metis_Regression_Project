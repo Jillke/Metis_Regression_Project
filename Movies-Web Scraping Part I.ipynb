{
 "cells": [
  {
   "cell_type": "code",
   "execution_count": 1,
   "id": "f434c25f-4582-4e06-a36c-34099443251b",
   "metadata": {},
   "outputs": [],
   "source": [
    "import requests\n",
    "from bs4 import BeautifulSoup as bs\n",
    "import pandas as pd\n",
    "import re\n",
    "import numpy as np\n",
    "import time\n",
    "import matplotlib as plt\n",
    "import dateutil.parser"
   ]
  },
  {
   "cell_type": "code",
   "execution_count": 3,
   "id": "6e42f829-67db-4ef9-9eeb-78edd4b6f2a7",
   "metadata": {},
   "outputs": [],
   "source": [
    "year=2010\n",
    "# create empty lists in which to save the link stubs and movie names\n",
    "names = []\n",
    "link_stubs = []\n",
    "\n",
    "while year !=2020:\n",
    "    links=f\"https://www.boxofficemojo.com/year/{year}/?grossesOption=calendarGrosses\"\n",
    "    year=year+1\n",
    "   \n",
    "    for url in links:\n",
    "        response= requests.get(links)\n",
    "        time.sleep(1)\n",
    "        soup = bs(response.text, 'html5lib')\n",
    "        table = soup.find(id='table')\n",
    "        rows = [row for row in table.find_all('tr')]\n",
    "\n",
    "    for row in rows[1:]:\n",
    "        link = row.find('a')\n",
    "        if link != None:\n",
    "            name, link_stub = link.text, link['href']\n",
    "            names.append(name)\n",
    "            link_stubs.append(link_stub)"
   ]
  },
  {
   "cell_type": "code",
   "execution_count": 4,
   "id": "2b6476c8-ce28-4c49-9938-68c7f019d56c",
   "metadata": {},
   "outputs": [
    {
     "name": "stdout",
     "output_type": "stream",
     "text": [
      "['Avatar', 'Toy Story 3', 'Alice in Wonderland', 'Iron Man 2', 'The Twilight Saga: Eclipse', 'Inception', 'Harry Potter and the Deathly Hallows: Part 1', 'Despicable Me', 'Shrek Forever After', 'How to Train Your Dragon']\n",
      "['/release/rl876971521/?ref_=bo_yld_table_1', '/release/rl1383564801/?ref_=bo_yld_table_2', '/release/rl3393226241/?ref_=bo_yld_table_3', '/release/rl1515881985/?ref_=bo_yld_table_4', '/release/rl659654145/?ref_=bo_yld_table_5', '/release/rl2908456449/?ref_=bo_yld_table_6', '/release/rl1248560641/?ref_=bo_yld_table_7', '/release/rl2018477569/?ref_=bo_yld_table_8', '/release/rl57771521/?ref_=bo_yld_table_9', '/release/rl2908259841/?ref_=bo_yld_table_10']\n"
     ]
    }
   ],
   "source": [
    "# look at the first 10 items of names and link_stubs lists\n",
    "\n",
    "print(names[:10])\n",
    "print(link_stubs[:10])"
   ]
  },
  {
   "cell_type": "code",
   "execution_count": 5,
   "id": "08cbaec6-237d-44f8-885a-aad4deedc41c",
   "metadata": {},
   "outputs": [],
   "source": [
    "# create a dictionary of each movie and its corresponding link stub\n",
    "movies = {}\n",
    "for a, b in zip(names, link_stubs):\n",
    "    movies[a] = [b]"
   ]
  },
  {
   "cell_type": "code",
   "execution_count": 6,
   "id": "46e91885-9b58-4c73-b2b2-bc5ada51b68e",
   "metadata": {},
   "outputs": [],
   "source": [
    "# create a dataframe out of the dictionary containing each movie and its link stub\n",
    "raw_movies_df = pd.DataFrame(movies).T  #transpose\n",
    "raw_movies_df.columns = ['link_stub']"
   ]
  },
  {
   "cell_type": "code",
   "execution_count": 7,
   "id": "6ee5d1b7-0326-4d4b-bfe1-3c38d2330152",
   "metadata": {},
   "outputs": [],
   "source": [
    "def movie_item(soup, field_name):\n",
    "    obj=soup.find(text=re.compile(field_name))\n",
    "    if not obj:\n",
    "        return None\n",
    "    element=obj.findNext()\n",
    "    if element:\n",
    "        return element.text\n",
    "    else:\n",
    "        return None"
   ]
  },
  {
   "cell_type": "code",
   "execution_count": 10,
   "id": "de91f577-824f-4984-b973-ec154b7ea328",
   "metadata": {},
   "outputs": [],
   "source": [
    "def get_movie_dict(link):\n",
    "    base_url='https://www.boxofficemojo.com'\n",
    "    link_stub=base_url+ link\n",
    "    new_response=requests.get(link_stub)\n",
    "    page=new_response.text\n",
    "    time.sleep(1)\n",
    "    soup=bs(page,'html5lib')\n",
    "      \n",
    "    #Get movie title\n",
    "    movie_title=soup.find('title').text.split('-')[0].strip()\n",
    "\n",
    "    #Get release date\n",
    "    release_date=movie_item(soup,'Release Date')\n",
    "    def date_(datetime):\n",
    "        try:\n",
    "            raw_date=dateutil.parser.parse(datetime)\n",
    "            return raw_date\n",
    "        except:\n",
    "            None \n",
    "    date=date_(release_date.split('\\n')[0])\n",
    "    \n",
    "    #Get domestic gross value\n",
    "    domestic_gross=movie_item(soup,'Grosses').strip().replace(',','').split('\\n')[-1].strip().replace('$','')\n",
    "    domestic_gross=int(domestic_gross)\n",
    "\n",
    "    #Get genres\n",
    "    genres=movie_item(soup,'Genres')\n",
    "    try:\n",
    "        genres=genres.replace(' ','').split()\n",
    "    except:\n",
    "        np.nan\n",
    "   \n",
    "    #Get production budget \n",
    "    budget=movie_item(soup,'Budget')\n",
    "    try:\n",
    "        budget=budget.replace(',','').replace('$','')\n",
    "        budget=int(budget)\n",
    "    except:\n",
    "        np.nan\n",
    "    \n",
    "    #Get name of distributor\n",
    "    distributor=movie_item(soup,'Distributor')\n",
    "    distributor=distributor.split('See')[0]\n",
    "\n",
    "    #Number of theaters\n",
    "    number_of_theaters=movie_item(soup,'Widest Release').split(' ')[0].replace(',','')\n",
    "    theaters=int(number_of_theaters)\n",
    "    \n",
    "    #Run Time in minutes\n",
    "    runtime_minutes=movie_item(soup,'Running')\n",
    "    try:\n",
    "        runtime_minutes=int(runtime_minutes.split(' ')[0])*60 +int(runtime_minutes.split(' ')[2])\n",
    "    except:\n",
    "        np.nan\n",
    "        \n",
    "    #Get In-Release in days\n",
    "    in_release=movie_item(soup,'In Release')\n",
    "    try: \n",
    "        in_release=int(in_release.split('/')[0].replace('days',''))\n",
    "    except:\n",
    "        np.nan\n",
    "    \n",
    "    #Get rating\n",
    "    rating=movie_item(soup,'MPAA')\n",
    "    \n",
    "    #Create movies dictionary\n",
    "    columns=['movie_title','release_date','domestic_gross','genres','budget','distributor','theaters','runtime(minutes)','in_release(day)','rating']\n",
    "    movies_dict=dict(zip(columns,[movie_title,date,domestic_gross,genres,budget,distributor,theaters,runtime_minutes,in_release,rating]))\n",
    "    \n",
    "    return movies_dict"
   ]
  },
  {
   "cell_type": "code",
   "execution_count": 11,
   "id": "cc0e49b2-0c28-40af-be6e-6e63f6dd1012",
   "metadata": {},
   "outputs": [],
   "source": [
    "movie_info_list=[]\n",
    "for link in raw_movies_df.link_stub:\n",
    "    movie_info_list.append(get_movie_dict(link))"
   ]
  },
  {
   "cell_type": "code",
   "execution_count": 13,
   "id": "bccd094f-e529-487d-8891-017df26c4be3",
   "metadata": {},
   "outputs": [
    {
     "name": "stdout",
     "output_type": "stream",
     "text": [
      "1803\n"
     ]
    }
   ],
   "source": [
    "print(len(movie_info_list))"
   ]
  },
  {
   "cell_type": "code",
   "execution_count": 14,
   "id": "9e028cb9-744d-4320-9511-7208914083d9",
   "metadata": {},
   "outputs": [],
   "source": [
    "#Create a dataframe to be used for modeling\n",
    "movies_df=pd.DataFrame(movie_info_list)"
   ]
  },
  {
   "cell_type": "code",
   "execution_count": 15,
   "id": "47f2a252-63b8-4ea8-932d-e226dbaf75b6",
   "metadata": {},
   "outputs": [],
   "source": [
    "#Save dataframe to csv \n",
    "movies_df.to_csv('movie_data.csv')"
   ]
  },
  {
   "cell_type": "code",
   "execution_count": null,
   "id": "2fa837a6-663b-4a4f-93a4-3f4acc800c85",
   "metadata": {},
   "outputs": [],
   "source": []
  }
 ],
 "metadata": {
  "kernelspec": {
   "display_name": "Python 3 (regression)",
   "language": "python",
   "name": "regression"
  },
  "language_info": {
   "codemirror_mode": {
    "name": "ipython",
    "version": 3
   },
   "file_extension": ".py",
   "mimetype": "text/x-python",
   "name": "python",
   "nbconvert_exporter": "python",
   "pygments_lexer": "ipython3",
   "version": "3.8.13"
  }
 },
 "nbformat": 4,
 "nbformat_minor": 5
}
